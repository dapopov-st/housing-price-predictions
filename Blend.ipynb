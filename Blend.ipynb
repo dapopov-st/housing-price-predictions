{
 "cells": [
  {
   "cell_type": "code",
   "execution_count": 32,
   "metadata": {},
   "outputs": [],
   "source": [
    "KAGGLE=False"
   ]
  },
  {
   "cell_type": "code",
   "execution_count": 48,
   "metadata": {},
   "outputs": [],
   "source": [
    "import matplotlib.pyplot as plt\n",
    "%matplotlib inline\n",
    "import pandas as pd\n",
    "import numpy as np\n",
    "import seaborn as sns\n",
    "import sklearn\n",
    "import sklearn.preprocessing\n",
    "\n",
    "from sklearn.pipeline import make_pipeline \n",
    "from sklearn.preprocessing import PolynomialFeatures, StandardScaler, OneHotEncoder\n",
    "from sklearn import preprocessing\n",
    "from sklearn.ensemble import RandomForestRegressor\n",
    "from sklearn.model_selection import GridSearchCV, StratifiedKFold,KFold, cross_val_score\n",
    "from sklearn.metrics import mean_squared_error\n",
    "from sklearn.linear_model import LinearRegression\n",
    "\n",
    "\n",
    "import catboost as cb\n",
    "from xgboost import XGBRegressor\n",
    "\n",
    "import pickle\n",
    "from sklearn.metrics import r2_score"
   ]
  },
  {
   "cell_type": "code",
   "execution_count": 34,
   "metadata": {},
   "outputs": [],
   "source": [
    "def load_data(tree=None):\n",
    "    if KAGGLE:\n",
    "        train = pd.read_csv('data/train.csv')\n",
    "        test = pd.read_csv('data/test.csv')\n",
    "        num_train=np.shape(train)[0]\n",
    "        num_test=np.shape(test)[0]\n",
    "        alldata=train.append(test, ignore_index=True)\n",
    "    else:\n",
    "        alldata=pd.read_csv('./data/Ames_HousePriceLocs.csv')#, index_col=0) #already cleaned (see work in appendix files)\n",
    "    return alldata\n",
    "\n",
    "alldata=load_data()"
   ]
  },
  {
   "cell_type": "code",
   "execution_count": 35,
   "metadata": {},
   "outputs": [],
   "source": [
    "def label_encode():\n",
    "    from sklearn import preprocessing\n",
    "    le = preprocessing.LabelEncoder()\n",
    "    for column_name in alldata.columns:\n",
    "        if alldata[column_name].dtype == object:\n",
    "            #cat_idxs.append(alldata.columns.get_loc(column_name))\n",
    "            #alldata[column_name] = alldata[column_name].astype(str)\n",
    "            alldata[column_name] = le.fit_transform(alldata[column_name])\n",
    "label_encode()"
   ]
  },
  {
   "cell_type": "code",
   "execution_count": 36,
   "metadata": {},
   "outputs": [],
   "source": [
    "def split_into_train_test(alldata):\n",
    "    y=alldata['SalePrice']\n",
    "    X=alldata.drop(['SalePrice'],axis=1)\n",
    "    from sklearn.model_selection import train_test_split\n",
    "    if KAGGLE:\n",
    "        return split_train_test(alldata=alldata,num_train=num_train)\n",
    "    else:\n",
    "        return train_test_split(X, y, test_size=0.2, random_state=42)\n",
    "X_train, X_test, y_train, y_test = split_into_train_test(alldata) "
   ]
  },
  {
   "cell_type": "code",
   "execution_count": 41,
   "metadata": {},
   "outputs": [],
   "source": [
    "from catboost import CatBoostRegressor\n",
    "\n",
    "from_file = CatBoostRegressor()\n",
    "\n",
    "cbm=from_file.load_model('./models/model_cb_locs2')\n",
    "\n",
    "rf=pickle.load(open('./models/model_rf_locs', 'rb'))\n",
    "xgb=pickle.load(open('./models/model_xgb_locs', 'rb'))"
   ]
  },
  {
   "cell_type": "code",
   "execution_count": 71,
   "metadata": {},
   "outputs": [],
   "source": [
    "def blended_preds(X):\n",
    "    return (#(0.1 * rf.predict(X)) + \\\n",
    "            (0.7 * xgb.best_estimator_.predict(X)) + \\\n",
    "            (0.3 * cbm.predict(X))\n",
    "           )"
   ]
  },
  {
   "cell_type": "code",
   "execution_count": 72,
   "metadata": {},
   "outputs": [],
   "source": [
    "blended_predictions=blended_preds(X_test)"
   ]
  },
  {
   "cell_type": "code",
   "execution_count": 73,
   "metadata": {},
   "outputs": [],
   "source": [
    "rmse = np.sqrt(mean_squared_error(y_test,blended_predictions))\n",
    "r2=r2_score(y_test, blended_predictions)"
   ]
  },
  {
   "cell_type": "code",
   "execution_count": 74,
   "metadata": {},
   "outputs": [
    {
     "name": "stdout",
     "output_type": "stream",
     "text": [
      "RMSE on Test: 18265.213193225965\n",
      "R2 on Test: 0.9484964415569249\n"
     ]
    }
   ],
   "source": [
    "print(f'RMSE on Test: {rmse}')\n",
    "print(f'R2 on Test: {r2}')"
   ]
  },
  {
   "cell_type": "markdown",
   "metadata": {},
   "source": [
    "The R2 on the Test set is about .95, similar to the R2's of the two strongest predictors"
   ]
  },
  {
   "cell_type": "code",
   "execution_count": null,
   "metadata": {},
   "outputs": [],
   "source": []
  }
 ],
 "metadata": {
  "kernelspec": {
   "display_name": "Python 3",
   "language": "python",
   "name": "python3"
  },
  "language_info": {
   "codemirror_mode": {
    "name": "ipython",
    "version": 3
   },
   "file_extension": ".py",
   "mimetype": "text/x-python",
   "name": "python",
   "nbconvert_exporter": "python",
   "pygments_lexer": "ipython3",
   "version": "3.9.12"
  }
 },
 "nbformat": 4,
 "nbformat_minor": 4
}

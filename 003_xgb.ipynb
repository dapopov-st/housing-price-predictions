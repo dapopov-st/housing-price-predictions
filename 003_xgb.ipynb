{
 "cells": [
  {
   "cell_type": "markdown",
   "metadata": {},
   "source": [
    "# Tree Models"
   ]
  },
  {
   "cell_type": "markdown",
   "metadata": {},
   "source": [
    "The goal is to predict SalePrice"
   ]
  },
  {
   "cell_type": "code",
   "execution_count": 2,
   "metadata": {},
   "outputs": [],
   "source": [
    "KAGGLE=False # set to True if using the Kaggle version of the dataset\n",
    "WRITE=False\n",
    "import matplotlib.pyplot as plt\n",
    "%matplotlib inline\n",
    "import pandas as pd\n",
    "import numpy as np\n",
    "import seaborn as sns\n",
    "import sklearn\n",
    "import sklearn.preprocessing\n",
    "\n",
    "from sklearn.pipeline import make_pipeline \n",
    "from sklearn.preprocessing import PolynomialFeatures, StandardScaler, OneHotEncoder\n",
    "from sklearn import preprocessing\n",
    "from sklearn.ensemble import RandomForestRegressor\n",
    "from sklearn.model_selection import GridSearchCV, StratifiedKFold,KFold, cross_val_score\n",
    "from sklearn.metrics import mean_squared_error\n",
    "from sklearn.linear_model import LinearRegression\n",
    "from sklearn.metrics import r2_score\n",
    "\n",
    "import catboost as cb\n",
    "\n",
    "from xgboost import XGBRegressor\n",
    "import pickle\n",
    "\n",
    "import shap\n",
    "from sklearn.model_selection import train_test_split\n",
    "from sklearn.feature_selection import RFE\n",
    "pd.set_option('display.max_rows', 300)\n",
    "pd.set_option('display.max_columns', 300)\n",
    "import xgboost as xgb\n",
    "from sklearn.model_selection import RandomizedSearchCV\n",
    "from sklearn.linear_model import LinearRegression,Lasso, Ridge\n",
    "from sklearn.preprocessing import StandardScaler\n",
    "from sklearn.model_selection import cross_val_score,KFold, train_test_split\n",
    "from sklearn.pipeline import Pipeline\n",
    "\n",
    "plt.rcParams[\"figure.figsize\"] = (20, 10)\n",
    "from tqdm import tqdm"
   ]
  },
  {
   "cell_type": "markdown",
   "metadata": {},
   "source": [
    "The data has been pre-processed"
   ]
  },
  {
   "cell_type": "code",
   "execution_count": 3,
   "metadata": {},
   "outputs": [],
   "source": [
    "alldata=pd.read_csv('./data/Ames_HousePriceLocsDistNoDpl.csv')#, index_col=0) #already cleaned (see work in appendix files)"
   ]
  },
  {
   "cell_type": "code",
   "execution_count": 5,
   "metadata": {},
   "outputs": [],
   "source": [
    "def label_encode(data):\n",
    "    from sklearn import preprocessing\n",
    "    le = preprocessing.LabelEncoder()\n",
    "    for column_name in data.columns:\n",
    "        if data[column_name].dtype == object:\n",
    "            data[column_name] = le.fit_transform(data[column_name])\n",
    "label_encode(alldata)"
   ]
  },
  {
   "cell_type": "code",
   "execution_count": 6,
   "metadata": {},
   "outputs": [],
   "source": [
    "def train_test_split_custom(data=alldata,y_var='SalePrice',cols=[]):\n",
    "    y=data[y_var]\n",
    "    X=data.drop([y_var],axis=1)\n",
    "    X= X if not cols else X[cols]\n",
    "    return train_test_split(X, y, test_size=0.2, random_state=42)\n"
   ]
  },
  {
   "cell_type": "markdown",
   "metadata": {},
   "source": [
    "#### Select columns both random forests and Lasso considered important (see previous notebook)"
   ]
  },
  {
   "cell_type": "code",
   "execution_count": 7,
   "metadata": {},
   "outputs": [],
   "source": [
    "cols_selected=['KitchenQual',\n",
    " 'GarageYrBlt',\n",
    " 'BsmtHalfBath',\n",
    " 'MissingLoc',\n",
    " 'GrLivArea',\n",
    " 'ExterQual',\n",
    " 'PoolQC',\n",
    " 'HalfBath',\n",
    " 'GarageCars',\n",
    " 'LotArea',\n",
    " 'PavedDrive',\n",
    " 'WoodDeckSF',\n",
    " 'BsmtFinSF1',\n",
    " 'BsmtFullBath',\n",
    " 'GarageFinish',\n",
    " 'Heating',\n",
    " 'TotalBsmtSF',\n",
    " 'FireplaceQu',\n",
    " 'distToUI',\n",
    " 'Foundation',\n",
    " 'BsmtQual',\n",
    " 'KitchenAbvGr',\n",
    " 'MasVnrArea',\n",
    " 'Condition2',\n",
    " 'CentralAir',\n",
    " 'BsmtExposure',\n",
    " 'RoofStyle',\n",
    " 'BldgType',\n",
    " 'TotRmsAbvGrd',\n",
    " 'BsmtFinType1',\n",
    " 'MSZoning',\n",
    " 'GarageArea',\n",
    " 'SaleCondition',\n",
    " 'lats',\n",
    " 'GarageCond',\n",
    " 'LandSlope',\n",
    " 'Street',\n",
    " 'longs',\n",
    " 'Fireplaces',\n",
    " 'BedroomAbvGr',\n",
    " 'FullBath',\n",
    " 'BsmtUnfSF',\n",
    " 'YearBuilt',\n",
    " 'OverallQual',\n",
    " 'OpenPorchSF',\n",
    " 'HouseStyle',\n",
    " 'RoofMatl',\n",
    " 'GarageType',\n",
    " 'YearRemodAdd',\n",
    " 'LotFrontage',\n",
    " '1stFlrSF',\n",
    " 'OverallCond']"
   ]
  },
  {
   "cell_type": "code",
   "execution_count": 8,
   "metadata": {},
   "outputs": [
    {
     "data": {
      "text/plain": [
       "52"
      ]
     },
     "execution_count": 8,
     "metadata": {},
     "output_type": "execute_result"
    }
   ],
   "source": [
    "len(cols_selected)"
   ]
  },
  {
   "cell_type": "markdown",
   "metadata": {},
   "source": [
    "# XGBoost"
   ]
  },
  {
   "cell_type": "code",
   "execution_count": 11,
   "metadata": {},
   "outputs": [],
   "source": [
    "class TrainXGB:\n",
    "    def __init__(self,data,model,grid, y_var='SalePrice',cols=[],grid_search=True, n_iters_rs=None):\n",
    "        self.data = data\n",
    "        self.cols = cols\n",
    "        self.y_var = y_var\n",
    "        self.model=model\n",
    "        self.grid=grid\n",
    "        self.X_train, self.X_test, self.y_train, self.y_test = self.train_test_split_custom()  \n",
    "        self.grid_search = grid_search # True if grid search, False if random search\n",
    "        self.n_iters_rs = n_iters_rs if n_iters_rs else 10\n",
    " \n",
    "    def __call__(self):    \n",
    "        cv=KFold(n_splits=5, random_state=42, shuffle=True)\n",
    "\n",
    "        if self.grid_search:\n",
    "            search_cv = GridSearchCV(cv=cv,\n",
    "                        estimator=self.model,\n",
    "                        n_jobs=2,\n",
    "                        param_grid=self.grid,\n",
    "                        return_train_score=True,\n",
    "                        verbose=1)\n",
    "        else:\n",
    "            search_cv = RandomizedSearchCV(cv=cv,\n",
    "                        estimator=self.model,\n",
    "                        n_jobs=2,\n",
    "                        param_distributions=self.grid,\n",
    "                        return_train_score=True,\n",
    "                        verbose=1,\n",
    "                        n_iter=self.n_iters_rs)\n",
    "\n",
    "\n",
    "        %time obj = search_cv.fit(self.X_train, self.y_train)\n",
    "\n",
    "        \n",
    "        preds = search_cv.predict(self.X_test)\n",
    "        kf = KFold(n_splits=12, random_state=42, shuffle=True)\n",
    "\n",
    "        print(f'r2 score on train: {r2_score(search_cv.predict(self.X_train), self.y_train)}\\nr2 score on test: {r2_score(self.y_test, preds)}')\n",
    "        return search_cv\n",
    "\n",
    "    def train_test_split_custom(self):\n",
    "        y=self.data[self.y_var]\n",
    "        X=self.data.drop([self.y_var],axis=1)\n",
    "        X= X if not self.cols else X[self.cols]\n",
    "        return train_test_split(X, y, test_size=0.2, random_state=42)\n",
    "\n"
   ]
  },
  {
   "cell_type": "code",
   "execution_count": 12,
   "metadata": {},
   "outputs": [
    {
     "name": "stderr",
     "output_type": "stream",
     "text": [
      "The total space of parameters 2 is smaller than n_iter=10. Running 2 iterations. For exhaustive searches, use GridSearchCV.\n"
     ]
    },
    {
     "name": "stdout",
     "output_type": "stream",
     "text": [
      "Fitting 5 folds for each of 2 candidates, totalling 10 fits\n",
      "CPU times: user 1min 2s, sys: 952 ms, total: 1min 2s\n",
      "Wall time: 1min 15s\n",
      "r2 score on train: 0.9973525840026357\n",
      "r2 score on test: 0.9283442150887822\n"
     ]
    }
   ],
   "source": [
    "#https://towardsdatascience.com/fine-tuning-xgboost-in-python-like-a-boss-b4543ed8b1e\n",
    "grid_xgb={'n_estimators':range(4000,6000,1000)}#, 'max_depth':range(3,6)}\n",
    "xgboost = XGBRegressor(learning_rate=0.01,\n",
    "                       max_depth=4,\n",
    "                       min_child_weight=0,\n",
    "                       gamma=0.6,\n",
    "                       subsample=0.8,\n",
    "                       colsample_bytree=0.7,\n",
    "                       objective='reg:squarederror',\n",
    "                       nthread=-1,\n",
    "                       scale_pos_weight=1,\n",
    "                       seed=42,\n",
    "                       reg_alpha=0.00006,\n",
    "                       random_state=42)\n",
    "model_xgb=TrainXGB(data=alldata, cols= cols_selected ,model=xgboost,grid = grid_xgb,grid_search=False, n_iters_rs=10)()\n"
   ]
  },
  {
   "cell_type": "markdown",
   "metadata": {},
   "source": [
    "- First, try to get max_depth right"
   ]
  },
  {
   "cell_type": "code",
   "execution_count": 19,
   "metadata": {},
   "outputs": [
    {
     "name": "stdout",
     "output_type": "stream",
     "text": [
      "Fitting 5 folds for each of 10 candidates, totalling 50 fits\n",
      "CPU times: user 15.1 s, sys: 220 ms, total: 15.3 s\n",
      "Wall time: 1min\n",
      "r2 score on train: 0.9866210648241653\n",
      "r2 score on test: 0.9233869028258181\n",
      "\n",
      "gamma:5\n",
      "reg_alpha: 0.0006\n",
      "num_estimators: 0.0006\n",
      "gamma:1\n"
     ]
    }
   ],
   "source": [
    "#https://towardsdatascience.com/fine-tuning-xgboost-in-python-like-a-boss-b4543ed8b1e\n",
    "grid_xgb={'n_estimators':[200,1000],\n",
    "        'reg_alpha':[.0006,.001,.1],\n",
    "        'gamma':[1],\n",
    "        'max_depth':np.arange(2,10)}#, 'max_depth':range(3,6)}\n",
    "xgboost = XGBRegressor(learning_rate=0.01,\n",
    "                       max_depth=4,\n",
    "                       min_child_weight=0,\n",
    "                      # gamma=0.6,\n",
    "                       subsample=0.8,\n",
    "                       colsample_bytree=0.7,\n",
    "                       objective='reg:squarederror',\n",
    "                       nthread=-1,\n",
    "                       scale_pos_weight=1,\n",
    "                       seed=42,\n",
    "                      # reg_alpha=0.00006,\n",
    "                       random_state=42)\n",
    "model_xgb=TrainXGB(data=alldata, cols= cols_selected ,model=xgboost,grid = grid_xgb,grid_search=False, n_iters_rs=10)()\n",
    "print(f\"\\ngamma:{model_xgb.best_estimator_.max_depth}\\nreg_alpha: {model_xgb.best_estimator_.reg_alpha}\\nnum_estimators: {model_xgb.best_estimator_.reg_alpha}\\ngamma:{model_xgb.best_estimator_.gamma}\")\n"
   ]
  },
  {
   "cell_type": "markdown",
   "metadata": {},
   "source": [
    "- Now, try to regularize"
   ]
  },
  {
   "cell_type": "code",
   "execution_count": 20,
   "metadata": {},
   "outputs": [
    {
     "name": "stderr",
     "output_type": "stream",
     "text": [
      "The total space of parameters 6 is smaller than n_iter=10. Running 6 iterations. For exhaustive searches, use GridSearchCV.\n"
     ]
    },
    {
     "name": "stdout",
     "output_type": "stream",
     "text": [
      "Fitting 5 folds for each of 6 candidates, totalling 30 fits\n",
      "CPU times: user 30.8 s, sys: 444 ms, total: 31.2 s\n",
      "Wall time: 1min 10s\n",
      "r2 score on train: 0.9980455954488381\n",
      "r2 score on test: 0.922983113946422\n",
      "\n",
      "gamma:6\n",
      "reg_alpha: 0.1\n",
      "num_estimators: 2000\n",
      "gamma:1\n"
     ]
    }
   ],
   "source": [
    "#https://towardsdatascience.com/fine-tuning-xgboost-in-python-like-a-boss-b4543ed8b1e\n",
    "grid_xgb={'n_estimators':[200,1000,2000],\n",
    "        'reg_alpha':[.001,.1],\n",
    "        'gamma':[1],\n",
    "        'max_depth':[6]}#, 'max_depth':range(3,6)}\n",
    "xgboost = XGBRegressor(learning_rate=0.01,\n",
    "                       max_depth=4,\n",
    "                       min_child_weight=0,\n",
    "                      # gamma=0.6,\n",
    "                       subsample=0.8,\n",
    "                       colsample_bytree=0.7,\n",
    "                       objective='reg:squarederror',\n",
    "                       nthread=-1,\n",
    "                       scale_pos_weight=1,\n",
    "                       seed=42,\n",
    "                      # reg_alpha=0.00006,\n",
    "                       random_state=42)\n",
    "model_xgb=TrainXGB(data=alldata, cols= cols_selected ,model=xgboost,grid = grid_xgb,grid_search=False, n_iters_rs=10)()\n",
    "print(f\"\\ngamma:{model_xgb.best_estimator_.max_depth}\\nreg_alpha: {model_xgb.best_estimator_.reg_alpha}\\nnum_estimators: {model_xgb.best_estimator_.n_estimators}\\ngamma:{model_xgb.best_estimator_.gamma}\")\n"
   ]
  },
  {
   "cell_type": "markdown",
   "metadata": {},
   "source": [
    "- Note: To save time, I did not rerun some of the cells below since they were run previously.  Instead, I selected some modesl for future work and reran the future importances."
   ]
  },
  {
   "cell_type": "code",
   "execution_count": 157,
   "metadata": {},
   "outputs": [
    {
     "name": "stderr",
     "output_type": "stream",
     "text": [
      "The total space of parameters 3 is smaller than n_iter=10. Running 3 iterations. For exhaustive searches, use GridSearchCV.\n"
     ]
    },
    {
     "name": "stdout",
     "output_type": "stream",
     "text": [
      "Fitting 5 folds for each of 3 candidates, totalling 15 fits\n",
      "CPU times: user 32.6 s, sys: 348 ms, total: 32.9 s\n",
      "Wall time: 1min\n",
      "r2 score on train: 0.9955304367198257\n",
      "r2 score on test: 0.9295693369735181\n",
      "\n",
      "max_depth:6\n",
      "learning_rate:0.01\n",
      "reg_alpha: 0.2\n",
      "num_estimators: 2000\n",
      "gamma:5\n"
     ]
    }
   ],
   "source": [
    "#https://towardsdatascience.com/fine-tuning-xgboost-in-python-like-a-boss-b4543ed8b1e\n",
    "grid_xgb={'n_estimators':[2000],\n",
    "        'learning_rate':[.01],\n",
    "        'reg_alpha':[.1,.2,.3],\n",
    "        'gamma':[5],\n",
    "        'max_depth':[6],\n",
    "        'subsample':[.5]}#, 'max_depth':range(3,6)}\n",
    "xgboost = XGBRegressor(#learning_rate=0.01,\n",
    "                       max_depth=4,\n",
    "                       min_child_weight=0,\n",
    "                      # gamma=0.6,\n",
    "                       #subsample=0.8,\n",
    "                       colsample_bytree=0.7,\n",
    "                       objective='reg:squarederror',\n",
    "                       nthread=-1,\n",
    "                       scale_pos_weight=1,\n",
    "                       seed=42,\n",
    "                      # reg_alpha=0.00006,\n",
    "                       random_state=42)\n",
    "model_xgb=TrainXGB(data=alldata, cols= cols_selected ,model=xgboost,grid = grid_xgb,grid_search=False, n_iters_rs=10)()\n",
    "print(f\"\\nmax_depth:{model_xgb.best_estimator_.max_depth}\\nlearning_rate:{model_xgb.best_estimator_.learning_rate}\\nreg_alpha: {model_xgb.best_estimator_.reg_alpha}\\nnum_estimators: {model_xgb.best_estimator_.n_estimators}\\ngamma:{model_xgb.best_estimator_.gamma}\")\n"
   ]
  },
  {
   "cell_type": "code",
   "execution_count": 158,
   "metadata": {},
   "outputs": [
    {
     "name": "stderr",
     "output_type": "stream",
     "text": [
      "The total space of parameters 3 is smaller than n_iter=10. Running 3 iterations. For exhaustive searches, use GridSearchCV.\n"
     ]
    },
    {
     "name": "stdout",
     "output_type": "stream",
     "text": [
      "Fitting 5 folds for each of 3 candidates, totalling 15 fits\n",
      "CPU times: user 29.6 s, sys: 536 ms, total: 30.2 s\n",
      "Wall time: 1min\n",
      "r2 score on train: 0.9940059166729079\n",
      "r2 score on test: 0.933201256867623\n",
      "\n",
      "max_depth:6\n",
      "learning_rate:0.01\n",
      "reg_alpha: 0.1\n",
      "num_estimators: 2000\n",
      "gamma:5\n"
     ]
    }
   ],
   "source": [
    "#https://towardsdatascience.com/fine-tuning-xgboost-in-python-like-a-boss-b4543ed8b1e\n",
    "grid_xgb={'n_estimators':[2000],\n",
    "        'learning_rate':[.01],\n",
    "        'reg_alpha':[.1,.2,.3],\n",
    "        'gamma':[5],\n",
    "        'max_depth':[6],\n",
    "        'subsample':[.4]}#, 'max_depth':range(3,6)}\n",
    "xgboost = XGBRegressor(#learning_rate=0.01,\n",
    "                       max_depth=4,\n",
    "                       min_child_weight=0,\n",
    "                      # gamma=0.6,\n",
    "                       #subsample=0.8,\n",
    "                       colsample_bytree=0.7,\n",
    "                       objective='reg:squarederror',\n",
    "                       nthread=-1,\n",
    "                       scale_pos_weight=1,\n",
    "                       seed=42,\n",
    "                      # reg_alpha=0.00006,\n",
    "                       random_state=42)\n",
    "model_xgb=TrainXGB(data=alldata, cols= cols_selected ,model=xgboost,grid = grid_xgb,grid_search=False, n_iters_rs=10)()\n",
    "print(f\"\\nmax_depth:{model_xgb.best_estimator_.max_depth}\\nlearning_rate:{model_xgb.best_estimator_.learning_rate}\\nreg_alpha: {model_xgb.best_estimator_.reg_alpha}\\nnum_estimators: {model_xgb.best_estimator_.n_estimators}\\ngamma:{model_xgb.best_estimator_.gamma}\")\n"
   ]
  },
  {
   "cell_type": "code",
   "execution_count": 159,
   "metadata": {},
   "outputs": [],
   "source": [
    "pickle.dump(model_xgb,open('./models/xgb_9332_51feats_.4subsample','wb'))"
   ]
  },
  {
   "cell_type": "code",
   "execution_count": 160,
   "metadata": {},
   "outputs": [
    {
     "name": "stderr",
     "output_type": "stream",
     "text": [
      "The total space of parameters 3 is smaller than n_iter=10. Running 3 iterations. For exhaustive searches, use GridSearchCV.\n"
     ]
    },
    {
     "name": "stdout",
     "output_type": "stream",
     "text": [
      "Fitting 5 folds for each of 3 candidates, totalling 15 fits\n",
      "CPU times: user 27.4 s, sys: 384 ms, total: 27.7 s\n",
      "Wall time: 52.8 s\n",
      "r2 score on train: 0.9912793207684324\n",
      "r2 score on test: 0.9310317258915519\n",
      "\n",
      "max_depth:6\n",
      "learning_rate:0.01\n",
      "reg_alpha: 0.2\n",
      "num_estimators: 2000\n",
      "gamma:5\n"
     ]
    }
   ],
   "source": [
    "#https://towardsdatascience.com/fine-tuning-xgboost-in-python-like-a-boss-b4543ed8b1e\n",
    "grid_xgb={'n_estimators':[2000],\n",
    "        'learning_rate':[.01],\n",
    "        'reg_alpha':[.1,.2,.3],\n",
    "        'gamma':[5],\n",
    "        'max_depth':[6],\n",
    "        'subsample':[.3]}#, 'max_depth':range(3,6)}\n",
    "xgboost = XGBRegressor(#learning_rate=0.01,\n",
    "                       max_depth=4,\n",
    "                       min_child_weight=0,\n",
    "                      # gamma=0.6,\n",
    "                       #subsample=0.8,\n",
    "                       colsample_bytree=0.7,\n",
    "                       objective='reg:squarederror',\n",
    "                       nthread=-1,\n",
    "                       scale_pos_weight=1,\n",
    "                       seed=42,\n",
    "                      # reg_alpha=0.00006,\n",
    "                       random_state=42)\n",
    "model_xgb=TrainXGB(data=alldata, cols= cols_selected ,model=xgboost,grid = grid_xgb,grid_search=False, n_iters_rs=10)()\n",
    "print(f\"\\nmax_depth:{model_xgb.best_estimator_.max_depth}\\nlearning_rate:{model_xgb.best_estimator_.learning_rate}\\nreg_alpha: {model_xgb.best_estimator_.reg_alpha}\\nnum_estimators: {model_xgb.best_estimator_.n_estimators}\\ngamma:{model_xgb.best_estimator_.gamma}\")\n"
   ]
  },
  {
   "cell_type": "code",
   "execution_count": 161,
   "metadata": {},
   "outputs": [
    {
     "name": "stderr",
     "output_type": "stream",
     "text": [
      "The total space of parameters 6 is smaller than n_iter=10. Running 6 iterations. For exhaustive searches, use GridSearchCV.\n"
     ]
    },
    {
     "name": "stdout",
     "output_type": "stream",
     "text": [
      "Fitting 5 folds for each of 6 candidates, totalling 30 fits\n",
      "CPU times: user 25.9 s, sys: 400 ms, total: 26.3 s\n",
      "Wall time: 1min 27s\n",
      "r2 score on train: 0.9912913378334266\n",
      "r2 score on test: 0.9328567171505722\n",
      "\n",
      "max_depth:6\n",
      "learning_rate:0.01\n",
      "reg_alpha: 0.2\n",
      "num_estimators: 2000\n",
      "gamma:5\n"
     ]
    }
   ],
   "source": [
    "#https://towardsdatascience.com/fine-tuning-xgboost-in-python-like-a-boss-b4543ed8b1e\n",
    "grid_xgb={'n_estimators':[2000],\n",
    "        'learning_rate':[.01],\n",
    "        'reg_alpha':[.2],\n",
    "        'gamma':[5],\n",
    "        'max_depth':[6],\n",
    "        'subsample':[.3],\n",
    "        'colsample_bytree':[.2,.3,.4,.5,.6,.7]}#, 'max_depth':range(3,6)}\n",
    "xgboost = XGBRegressor(#learning_rate=0.01,\n",
    "                       max_depth=4,\n",
    "                       min_child_weight=0,\n",
    "                      # gamma=0.6,\n",
    "                       #subsample=0.8,\n",
    "                       colsample_bytree=0.7,\n",
    "                       objective='reg:squarederror',\n",
    "                       nthread=-1,\n",
    "                       scale_pos_weight=1,\n",
    "                       seed=42,\n",
    "                      # reg_alpha=0.00006,\n",
    "                       random_state=42)\n",
    "model_xgb=TrainXGB(data=alldata, cols= cols_selected ,model=xgboost,grid = grid_xgb,grid_search=False, n_iters_rs=10)()\n",
    "print(f\"\\nmax_depth:{model_xgb.best_estimator_.max_depth}\\nlearning_rate:{model_xgb.best_estimator_.learning_rate}\\nreg_alpha: {model_xgb.best_estimator_.reg_alpha}\\nnum_estimators: {model_xgb.best_estimator_.n_estimators}\\ngamma:{model_xgb.best_estimator_.gamma}\")\n"
   ]
  },
  {
   "cell_type": "code",
   "execution_count": 21,
   "metadata": {},
   "outputs": [
    {
     "name": "stderr",
     "output_type": "stream",
     "text": [
      "The total space of parameters 6 is smaller than n_iter=10. Running 6 iterations. For exhaustive searches, use GridSearchCV.\n"
     ]
    },
    {
     "name": "stdout",
     "output_type": "stream",
     "text": [
      "Fitting 5 folds for each of 6 candidates, totalling 30 fits\n",
      "CPU times: user 13.3 s, sys: 172 ms, total: 13.5 s\n",
      "Wall time: 50.6 s\n",
      "r2 score on train: 0.9785200940447292\n",
      "r2 score on test: 0.930077221380623\n",
      "\n",
      "max_depth:6\n",
      "learning_rate:0.01\n",
      "reg_alpha: 0.2\n",
      "num_estimators: 1000\n",
      "gamma:5\n"
     ]
    }
   ],
   "source": [
    "#https://towardsdatascience.com/fine-tuning-xgboost-in-python-like-a-boss-b4543ed8b1e\n",
    "grid_xgb={'n_estimators':[1000],\n",
    "        'learning_rate':[.01],\n",
    "        'reg_alpha':[.2],\n",
    "        'gamma':[5],\n",
    "        'max_depth':[6],\n",
    "        'subsample':[.3],\n",
    "        'colsample_bytree':[.2,.3,.4,.5,.6,.7]}#, 'max_depth':range(3,6)}\n",
    "xgboost = XGBRegressor(#learning_rate=0.01,\n",
    "                       max_depth=4,\n",
    "                       min_child_weight=0,\n",
    "                      # gamma=0.6,\n",
    "                       #subsample=0.8,\n",
    "                       colsample_bytree=0.7,\n",
    "                       objective='reg:squarederror',\n",
    "                       nthread=-1,\n",
    "                       scale_pos_weight=1,\n",
    "                       seed=42,\n",
    "                      # reg_alpha=0.00006,\n",
    "                       random_state=42)\n",
    "model_xgb=TrainXGB(data=alldata, cols= cols_selected ,model=xgboost,grid = grid_xgb,grid_search=False, n_iters_rs=10)()\n",
    "print(f\"\\nmax_depth:{model_xgb.best_estimator_.max_depth}\\nlearning_rate:{model_xgb.best_estimator_.learning_rate}\\nreg_alpha: {model_xgb.best_estimator_.reg_alpha}\\nnum_estimators: {model_xgb.best_estimator_.n_estimators}\\ngamma:{model_xgb.best_estimator_.gamma}\")\n"
   ]
  },
  {
   "cell_type": "code",
   "execution_count": 22,
   "metadata": {},
   "outputs": [],
   "source": [
    "pickle.dump(model_xgb,open('./models/xgb_9300_51feats_regularized','wb'))"
   ]
  },
  {
   "cell_type": "code",
   "execution_count": 23,
   "metadata": {},
   "outputs": [
    {
     "data": {
      "text/plain": [
       "Text(0.5, 1.0, 'XGBoost Feature Importances')"
      ]
     },
     "execution_count": 23,
     "metadata": {},
     "output_type": "execute_result"
    },
    {
     "data": {
      "image/png": "[encoded data removed]",
      "text/plain": [
       "<Figure size 1440x720 with 1 Axes>"
      ]
     },
     "metadata": {
      "needs_background": "light"
     },
     "output_type": "display_data"
    }
   ],
   "source": [
    "pd.Series(model_xgb.best_estimator_.feature_importances_,alldata[cols_selected].columns).sort_values(ascending=False).plot(kind='bar')\n",
    "plt.title('XGBoost Feature Importances')"
   ]
  },
  {
   "cell_type": "code",
   "execution_count": 164,
   "metadata": {},
   "outputs": [
    {
     "name": "stderr",
     "output_type": "stream",
     "text": [
      "The total space of parameters 6 is smaller than n_iter=10. Running 6 iterations. For exhaustive searches, use GridSearchCV.\n"
     ]
    },
    {
     "name": "stdout",
     "output_type": "stream",
     "text": [
      "Fitting 5 folds for each of 6 candidates, totalling 30 fits\n",
      "CPU times: user 7.08 s, sys: 148 ms, total: 7.23 s\n",
      "Wall time: 22.8 s\n",
      "r2 score on train: 0.9584640204278082\n",
      "r2 score on test: 0.9219215072691608\n",
      "\n",
      "max_depth:6\n",
      "learning_rate:0.01\n",
      "reg_alpha: 0.2\n",
      "num_estimators: 500\n",
      "gamma:5\n"
     ]
    }
   ],
   "source": [
    "#https://towardsdatascience.com/fine-tuning-xgboost-in-python-like-a-boss-b4543ed8b1e\n",
    "grid_xgb={'n_estimators':[500],\n",
    "        'learning_rate':[.01],\n",
    "        'reg_alpha':[.2],\n",
    "        'gamma':[5],\n",
    "        'max_depth':[6],\n",
    "        'subsample':[.3],\n",
    "        'colsample_bytree':[.2,.3,.4,.5,.6,.7]}#, 'max_depth':range(3,6)}\n",
    "xgboost = XGBRegressor(#learning_rate=0.01,\n",
    "                       max_depth=4,\n",
    "                       min_child_weight=0,\n",
    "                      # gamma=0.6,\n",
    "                       #subsample=0.8,\n",
    "                       colsample_bytree=0.7,\n",
    "                       objective='reg:squarederror',\n",
    "                       nthread=-1,\n",
    "                       scale_pos_weight=1,\n",
    "                       seed=42,\n",
    "                      # reg_alpha=0.00006,\n",
    "                       random_state=42)\n",
    "model_xgb=TrainXGB(data=alldata, cols= cols_selected ,model=xgboost,grid = grid_xgb,grid_search=False, n_iters_rs=10)()\n",
    "print(f\"\\nmax_depth:{model_xgb.best_estimator_.max_depth}\\nlearning_rate:{model_xgb.best_estimator_.learning_rate}\\nreg_alpha: {model_xgb.best_estimator_.reg_alpha}\\nnum_estimators: {model_xgb.best_estimator_.n_estimators}\\ngamma:{model_xgb.best_estimator_.gamma}\")\n"
   ]
  },
  {
   "cell_type": "code",
   "execution_count": 13,
   "metadata": {},
   "outputs": [
    {
     "name": "stdout",
     "output_type": "stream",
     "text": [
      "Fitting 5 folds for each of 10 candidates, totalling 50 fits\n",
      "CPU times: user 5.31 s, sys: 72.1 ms, total: 5.38 s\n",
      "Wall time: 23.8 s\n",
      "r2 score on train: 0.9383825894790574\n",
      "r2 score on test: 0.9110203568846585\n",
      "\n",
      "max_depth:6\n",
      "learning_rate:0.01\n",
      "reg_alpha: 0.2\n",
      "num_estimators: 380\n",
      "gamma:5\n"
     ]
    }
   ],
   "source": [
    "#https://towardsdatascience.com/fine-tuning-xgboost-in-python-like-a-boss-b4543ed8b1e\n",
    "#Try grid search in n_estimators 200-400 range\n",
    "grid_xgb={'n_estimators':np.arange(200,400,20),\n",
    "        'learning_rate':[.01],\n",
    "        'reg_alpha':[.2],\n",
    "        'gamma':[5],\n",
    "        'max_depth':[6],\n",
    "        'subsample':[.3],\n",
    "        'colsample_bytree':[.6]}#, 'max_depth':range(3,6)}\n",
    "xgboost = XGBRegressor(#learning_rate=0.01,\n",
    "                       max_depth=4,\n",
    "                       min_child_weight=0,\n",
    "                      # gamma=0.6,\n",
    "                       #subsample=0.8,\n",
    "                       colsample_bytree=0.7,\n",
    "                       objective='reg:squarederror',\n",
    "                       nthread=-1,\n",
    "                       scale_pos_weight=1,\n",
    "                       seed=42,\n",
    "                      # reg_alpha=0.00006,\n",
    "                       random_state=42)\n",
    "model_xgb=TrainXGB(data=alldata, cols= cols_selected ,model=xgboost,grid = grid_xgb,grid_search=True)()\n",
    "print(f\"\\nmax_depth:{model_xgb.best_estimator_.max_depth}\\nlearning_rate:{model_xgb.best_estimator_.learning_rate}\\nreg_alpha: {model_xgb.best_estimator_.reg_alpha}\\nnum_estimators: {model_xgb.best_estimator_.n_estimators}\\ngamma:{model_xgb.best_estimator_.gamma}\")\n"
   ]
  },
  {
   "cell_type": "code",
   "execution_count": 175,
   "metadata": {},
   "outputs": [],
   "source": [
    "pickle.dump(model_xgb,open('./models/xgb_911_51feats_2_7pct_overfit','wb'))"
   ]
  },
  {
   "cell_type": "code",
   "execution_count": 18,
   "metadata": {},
   "outputs": [
    {
     "data": {
      "text/plain": [
       "Text(0.5, 1.0, 'XGBoost Feature Importances')"
      ]
     },
     "execution_count": 18,
     "metadata": {},
     "output_type": "execute_result"
    },
    {
     "data": {
      "image/png": "[encoded data removed]",
      "text/plain": [
       "<Figure size 1440x720 with 1 Axes>"
      ]
     },
     "metadata": {
      "needs_background": "light"
     },
     "output_type": "display_data"
    }
   ],
   "source": [
    "pd.Series(model_xgb.best_estimator_.feature_importances_,alldata[cols_selected].columns).sort_values(ascending=False).plot(kind='bar')\n",
    "plt.title('XGBoost Feature Importances')"
   ]
  },
  {
   "cell_type": "markdown",
   "metadata": {},
   "source": [
    "- XGBRegressor overfits since r2 score on train is 0.9997968686776598 and r2 score on test is 0.9213233946437086"
   ]
  },
  {
   "cell_type": "code",
   "execution_count": 24,
   "metadata": {},
   "outputs": [],
   "source": [
    "# sorted_feature_importance = model_xgb.best_estimator_.feature_importances_.argsort()\n",
    "# explainer = shap.TreeExplainer(model_xgb.best_estimator_)\n",
    "# shap_values = explainer.shap_values(X_test)\n",
    "# shap.summary_plot(shap_values, X_test, feature_names = alldata.columns[sorted_feature_importance])"
   ]
  }
 ],
 "metadata": {
  "kernelspec": {
   "display_name": "Python 3.10.4 ('fastClean')",
   "language": "python",
   "name": "python3"
  },
  "language_info": {
   "codemirror_mode": {
    "name": "ipython",
    "version": 3
   },
   "file_extension": ".py",
   "mimetype": "text/x-python",
   "name": "python",
   "nbconvert_exporter": "python",
   "pygments_lexer": "ipython3",
   "version": "3.10.4"
  },
  "vscode": {
   "interpreter": {
    "hash": "21806017a53b1e63c0d6447374d1f0a34d72e99dbf60fa29a45a20eb9fab0c7a"
   }
  }
 },
 "nbformat": 4,
 "nbformat_minor": 4
}

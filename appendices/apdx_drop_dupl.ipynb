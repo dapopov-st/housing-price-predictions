{
 "cells": [
  {
   "cell_type": "markdown",
   "metadata": {},
   "source": [
    "# Drop Duplicates and 2 Outliers"
   ]
  },
  {
   "cell_type": "code",
   "execution_count": null,
   "metadata": {},
   "outputs": [],
   "source": [
    "alldata=pd.read_csv('../data/Ames_HousePriceLocs.csv')#, index_col=0)\n",
    "\n",
    "alldata_dist=pd.read_csv('../data/Ames_HousePriceLocsDist.csv')#, index_col=0)\n",
    "\n",
    "#len(alldata[alldata_dist.duplicated(keep=False)])\n",
    "\n",
    "alldata=alldata.drop_duplicates()\n",
    "\n",
    "alldata_dist=alldata_dist.drop_duplicates()\n",
    "\n",
    "#np.shape(alldata)\n",
    "\n",
    "#np.shape(alldata_dist)"
   ]
  },
  {
   "cell_type": "code",
   "execution_count": 60,
   "metadata": {},
   "outputs": [],
   "source": [
    "alldata=alldata[~(alldata.GrLivArea>4000)]\n",
    "\n",
    "alldata_dist=alldata_dist[~(alldata_dist.GrLivArea>4000)]"
   ]
  }
 ],
 "metadata": {
  "kernelspec": {
   "display_name": "Python 3",
   "language": "python",
   "name": "python3"
  },
  "language_info": {
   "codemirror_mode": {
    "name": "ipython",
    "version": 3
   },
   "file_extension": ".py",
   "mimetype": "text/x-python",
   "name": "python",
   "nbconvert_exporter": "python",
   "pygments_lexer": "ipython3",
   "version": "3.9.12"
  }
 },
 "nbformat": 4,
 "nbformat_minor": 4
}

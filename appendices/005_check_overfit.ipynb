{
 "cells": [
  {
   "cell_type": "code",
   "execution_count": 1,
   "metadata": {},
   "outputs": [],
   "source": [
    "KAGGLE=False # set to True if using the Kaggle version of the dataset"
   ]
  },
  {
   "cell_type": "code",
   "execution_count": 2,
   "metadata": {},
   "outputs": [],
   "source": [
    "import matplotlib.pyplot as plt\n",
    "%matplotlib inline\n",
    "import pandas as pd\n",
    "import numpy as np\n",
    "import seaborn as sns\n",
    "import sklearn\n",
    "import sklearn.preprocessing\n",
    "\n",
    "from sklearn.pipeline import make_pipeline \n",
    "from sklearn.preprocessing import PolynomialFeatures, StandardScaler, OneHotEncoder\n",
    "from sklearn import preprocessing\n",
    "from sklearn.ensemble import RandomForestRegressor\n",
    "from sklearn.model_selection import GridSearchCV, StratifiedKFold,KFold, cross_val_score\n",
    "from sklearn.metrics import mean_squared_error\n",
    "from sklearn.linear_model import LinearRegression\n",
    "from sklearn.metrics import r2_score\n",
    "\n",
    "import catboost as cb\n",
    "\n",
    "from xgboost import XGBRegressor\n",
    "import pickle\n"
   ]
  },
  {
   "cell_type": "code",
   "execution_count": 3,
   "metadata": {},
   "outputs": [],
   "source": [
    "pd.set_option('display.max_rows', 300)\n",
    "pd.set_option('display.max_columns', 300)"
   ]
  },
  {
   "cell_type": "code",
   "execution_count": 4,
   "metadata": {},
   "outputs": [],
   "source": [
    "def load_data(tree=None):\n",
    "    if KAGGLE:\n",
    "        train = pd.read_csv('data/train.csv')\n",
    "        test = pd.read_csv('data/test.csv')\n",
    "        num_train=np.shape(train)[0]\n",
    "        num_test=np.shape(test)[0]\n",
    "        alldata=train.append(test, ignore_index=True)\n",
    "    else:\n",
    "        alldata=pd.read_csv('./data/Ames_HousePriceLocsDistNoDpl.csv')#, index_col=0) #already cleaned (see work in appendix files)\n",
    "\n",
    "        #alldata=pd.read_csv('./data/Ames_HousePriceLocs.csv')#, index_col=0) #already cleaned (see work in appendix files)\n",
    "    return alldata\n",
    "\n",
    "alldata=load_data()"
   ]
  },
  {
   "cell_type": "code",
   "execution_count": 5,
   "metadata": {},
   "outputs": [],
   "source": [
    "def label_encode():\n",
    "    from sklearn import preprocessing\n",
    "    le = preprocessing.LabelEncoder()\n",
    "    for column_name in alldata.columns:\n",
    "        if alldata[column_name].dtype == object:\n",
    "            #cat_idxs.append(alldata.columns.get_loc(column_name))\n",
    "            #alldata[column_name] = alldata[column_name].astype(str)\n",
    "            alldata[column_name] = le.fit_transform(alldata[column_name])\n",
    "label_encode()"
   ]
  },
  {
   "cell_type": "code",
   "execution_count": 6,
   "metadata": {},
   "outputs": [],
   "source": [
    "def split_into_train_test(alldata):\n",
    "    y=alldata['SalePrice']\n",
    "    X=alldata.drop(['SalePrice'],axis=1)\n",
    "    from sklearn.model_selection import train_test_split\n",
    "    if KAGGLE:\n",
    "        return split_train_test(alldata=alldata,num_train=num_train)\n",
    "    else:\n",
    "        return train_test_split(X, y, test_size=0.2, random_state=42)\n",
    "X_train, X_test, y_train, y_test = split_into_train_test(alldata)  "
   ]
  },
  {
   "cell_type": "code",
   "execution_count": 7,
   "metadata": {},
   "outputs": [],
   "source": [
    "from catboost import CatBoostRegressor\n",
    "\n",
    "from_file = CatBoostRegressor()\n",
    "\n",
    "cbm=from_file.load_model('./models/model_cb_locs_dist_nodpl')\n",
    "\n",
    "rf=pickle.load(open('./models/model_rf_locs_dist_nodpl', 'rb'))\n",
    "xgb=pickle.load(open('./models/model_xgb_locs_dist_nodpl', 'rb'))"
   ]
  },
  {
   "cell_type": "markdown",
   "metadata": {},
   "source": [
    "### Catboost"
   ]
  },
  {
   "cell_type": "code",
   "execution_count": 8,
   "metadata": {},
   "outputs": [
    {
     "name": "stdout",
     "output_type": "stream",
     "text": [
      "Testing performance\n",
      "RMSE: 21380.97680\n",
      "R2: 0.92275\n"
     ]
    }
   ],
   "source": [
    "from sklearn.metrics import r2_score\n",
    "\n",
    "pred = cbm.predict(X_test)\n",
    "rmse = (np.sqrt(mean_squared_error(y_test, pred)))\n",
    "r2 = r2_score(y_test, pred)\n",
    "print('Testing performance')\n",
    "print('RMSE: {:.5f}'.format(rmse))\n",
    "print('R2: {:.5f}'.format(r2))"
   ]
  },
  {
   "cell_type": "code",
   "execution_count": 10,
   "metadata": {},
   "outputs": [
    {
     "name": "stdout",
     "output_type": "stream",
     "text": [
      "Testing performance\n",
      "RMSE: 5164.75691\n",
      "R2: 0.99517\n"
     ]
    }
   ],
   "source": [
    "from sklearn.metrics import r2_score\n",
    "\n",
    "pred = cbm.predict(X_train)\n",
    "rmse = (np.sqrt(mean_squared_error(y_train, pred)))\n",
    "r2 = r2_score(y_train, pred)\n",
    "print('Testing performance')\n",
    "print('RMSE: {:.5f}'.format(rmse))\n",
    "print('R2: {:.5f}'.format(r2))"
   ]
  },
  {
   "cell_type": "markdown",
   "metadata": {},
   "source": [
    "### Rf"
   ]
  },
  {
   "cell_type": "code",
   "execution_count": 16,
   "metadata": {},
   "outputs": [
    {
     "name": "stdout",
     "output_type": "stream",
     "text": [
      "Testing performance\n",
      "RMSE: 23494.85731\n",
      "R2: 0.90672\n"
     ]
    }
   ],
   "source": [
    "from sklearn.metrics import r2_score\n",
    "\n",
    "pred = rf.predict(X_test)\n",
    "rmse = (np.sqrt(mean_squared_error(y_test, pred)))\n",
    "r2 = r2_score(y_test, pred)\n",
    "print('Testing performance')\n",
    "print('RMSE: {:.5f}'.format(rmse))\n",
    "print('R2: {:.5f}'.format(r2))"
   ]
  },
  {
   "cell_type": "code",
   "execution_count": 17,
   "metadata": {},
   "outputs": [
    {
     "name": "stdout",
     "output_type": "stream",
     "text": [
      "Testing performance\n",
      "RMSE: 9376.04747\n",
      "R2: 0.98409\n"
     ]
    }
   ],
   "source": [
    "from sklearn.metrics import r2_score\n",
    "\n",
    "pred = rf.predict(X_train)\n",
    "rmse = (np.sqrt(mean_squared_error(y_train, pred)))\n",
    "r2 = r2_score(y_train, pred)\n",
    "print('Testing performance')\n",
    "print('RMSE: {:.5f}'.format(rmse))\n",
    "print('R2: {:.5f}'.format(r2))"
   ]
  },
  {
   "cell_type": "markdown",
   "metadata": {},
   "source": [
    "### XGBoost"
   ]
  },
  {
   "cell_type": "code",
   "execution_count": 18,
   "metadata": {},
   "outputs": [
    {
     "name": "stdout",
     "output_type": "stream",
     "text": [
      "Testing performance\n",
      "RMSE: 20098.27249\n",
      "R2: 0.93174\n"
     ]
    }
   ],
   "source": [
    "from sklearn.metrics import r2_score\n",
    "\n",
    "pred = xgb.predict(X_test)\n",
    "rmse = (np.sqrt(mean_squared_error(y_test, pred)))\n",
    "r2 = r2_score(y_test, pred)\n",
    "print('Testing performance')\n",
    "print('RMSE: {:.5f}'.format(rmse))\n",
    "print('R2: {:.5f}'.format(r2))"
   ]
  },
  {
   "cell_type": "code",
   "execution_count": 19,
   "metadata": {},
   "outputs": [
    {
     "name": "stdout",
     "output_type": "stream",
     "text": [
      "Testing performance\n",
      "RMSE: 2754.65451\n",
      "R2: 0.99863\n"
     ]
    }
   ],
   "source": [
    "from sklearn.metrics import r2_score\n",
    "\n",
    "pred = xgb.predict(X_train)\n",
    "rmse = (np.sqrt(mean_squared_error(y_train, pred)))\n",
    "r2 = r2_score(y_train, pred)\n",
    "print('Testing performance')\n",
    "print('RMSE: {:.5f}'.format(rmse))\n",
    "print('R2: {:.5f}'.format(r2))"
   ]
  },
  {
   "cell_type": "markdown",
   "metadata": {},
   "source": [
    "- All models overfit, as expected, with the range of difference between train and test R^2's being between 6% and 8%.  Given the scenario of predicting a house price, the amount of overfitting is arguably acceptable.  XGBoost, the heaviest used model, overfits by 6.5%, while random forest overfits by 8%, but little importane"
   ]
  },
  {
   "cell_type": "code",
   "execution_count": null,
   "metadata": {},
   "outputs": [],
   "source": []
  }
 ],
 "metadata": {
  "kernelspec": {
   "display_name": "Python 3",
   "language": "python",
   "name": "python3"
  },
  "language_info": {
   "codemirror_mode": {
    "name": "ipython",
    "version": 3
   },
   "file_extension": ".py",
   "mimetype": "text/x-python",
   "name": "python",
   "nbconvert_exporter": "python",
   "pygments_lexer": "ipython3",
   "version": "3.9.12"
  }
 },
 "nbformat": 4,
 "nbformat_minor": 4
}
